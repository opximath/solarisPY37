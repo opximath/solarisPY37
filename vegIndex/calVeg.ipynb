{
 "cells": [
  {
   "cell_type": "code",
   "execution_count": 3,
   "id": "54325e0d",
   "metadata": {},
   "outputs": [],
   "source": [
    "import rasterio\n",
    "import numpy\n",
    "\n",
    "image_file = \"Chiaksan_RGBN.tif\"\n",
    "\n",
    "# Load red and NIR bands - note all PlanetScope 4-band images have band order BGRN\n",
    "# RGBN Dataset\n",
    "with rasterio.open(image_file) as src:\n",
    "    band_red = src.read(1)\n",
    "\n",
    "with rasterio.open(image_file) as src:\n",
    "    band_nir = src.read(4)"
   ]
  },
  {
   "cell_type": "code",
   "execution_count": 4,
   "id": "9caa4a44",
   "metadata": {},
   "outputs": [],
   "source": [
    "# Allow division by zero\n",
    "numpy.seterr(divide='ignore', invalid='ignore')\n",
    "\n",
    "# Calculate NDVI\n",
    "ndvi = (band_nir.astype(float) - band_red.astype(float)) / (band_nir + band_red)"
   ]
  },
  {
   "cell_type": "code",
   "execution_count": 5,
   "id": "8c04d2f8",
   "metadata": {},
   "outputs": [],
   "source": [
    "# Set spatial characteristics of the output object to mirror the input\n",
    "kwargs = src.meta\n",
    "kwargs.update(\n",
    "    dtype=rasterio.float32,\n",
    "    count = 1)\n",
    "\n",
    "# Create the file\n",
    "with rasterio.open('ndvi.tif', 'w', **kwargs) as dst:\n",
    "        dst.write_band(1, ndvi.astype(rasterio.float32))"
   ]
  },
  {
   "cell_type": "code",
   "execution_count": null,
   "id": "bdac899d",
   "metadata": {},
   "outputs": [],
   "source": [
    "import matplotlib.pyplot as plt\n",
    "plt.imsave(\"ndvi_cmap.png\", ndvi, cmap=plt.cm.summer)"
   ]
  },
  {
   "cell_type": "code",
   "execution_count": null,
   "id": "c7d5cf34",
   "metadata": {},
   "outputs": [],
   "source": []
  }
 ],
 "metadata": {
  "kernelspec": {
   "display_name": "Python 3 (ipykernel)",
   "language": "python",
   "name": "python3"
  },
  "language_info": {
   "codemirror_mode": {
    "name": "ipython",
    "version": 3
   },
   "file_extension": ".py",
   "mimetype": "text/x-python",
   "name": "python",
   "nbconvert_exporter": "python",
   "pygments_lexer": "ipython3",
   "version": "3.7.12"
  }
 },
 "nbformat": 4,
 "nbformat_minor": 5
}
