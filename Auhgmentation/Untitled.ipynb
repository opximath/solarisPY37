{
 "cells": [
  {
   "cell_type": "code",
   "execution_count": 2,
   "metadata": {},
   "outputs": [],
   "source": [
    "import imageio\n",
    "import numpy as np\n",
    "import imgaug as ia\n",
    "import imgaug.augmenters as iaa\n",
    "from imgaug.augmentables.segmaps import SegmentationMapsOnImage"
   ]
  },
  {
   "cell_type": "code",
   "execution_count": 3,
   "metadata": {},
   "outputs": [],
   "source": [
    "ia.seed(1)\n",
    "\n",
    "# Load an example image (uint8, 128x128x3).\n",
    "image = ia.quokka(size=(128, 128), extract=\"square\")\n",
    "\n",
    "# Define an example segmentation map (int32, 128x128).\n",
    "# Here, we arbitrarily place some squares on the image.\n",
    "# Class 0 is our intended background class.\n",
    "segmap = np.zeros((128, 128, 1), dtype=np.int32)\n",
    "segmap[28:71, 35:85, 0] = 1\n",
    "segmap[10:25, 30:45, 0] = 2\n",
    "segmap[10:25, 70:85, 0] = 3\n",
    "segmap[10:110, 5:10, 0] = 4\n",
    "segmap[118:123, 10:110, 0] = 5\n",
    "segmap = SegmentationMapsOnImage(segmap, shape=image.shape)"
   ]
  },
  {
   "cell_type": "code",
   "execution_count": 4,
   "metadata": {},
   "outputs": [],
   "source": [
    "# Define our augmentation pipeline.\n",
    "seq = iaa.Sequential([\n",
    "    iaa.Dropout([0.05, 0.2]),      # drop 5% or 20% of all pixels\n",
    "    iaa.Sharpen((0.0, 1.0)),       # sharpen the image\n",
    "    iaa.Affine(rotate=(-45, 45)),  # rotate by -45 to 45 degrees (affects segmaps)\n",
    "    iaa.ElasticTransformation(alpha=50, sigma=5)  # apply water effect (affects segmaps)\n",
    "], random_order=True)"
   ]
  },
  {
   "cell_type": "code",
   "execution_count": 5,
   "metadata": {},
   "outputs": [],
   "source": [
    "# Augment images and segmaps.\n",
    "images_aug = []\n",
    "segmaps_aug = []\n",
    "for _ in range(5):\n",
    "    images_aug_i, segmaps_aug_i = seq(image=image, segmentation_maps=segmap)\n",
    "    images_aug.append(images_aug_i)\n",
    "    segmaps_aug.append(segmaps_aug_i)"
   ]
  },
  {
   "cell_type": "code",
   "execution_count": 6,
   "metadata": {},
   "outputs": [],
   "source": [
    "# We want to generate an image containing the original input image and\n",
    "# segmentation maps before/after augmentation. (Both multiple times for\n",
    "# multiple augmentations.)\n",
    "#\n",
    "# The whole image is supposed to have five columns:\n",
    "# (1) original image,\n",
    "# (2) original image with segmap,\n",
    "# (3) augmented image,\n",
    "# (4) augmented segmap on augmented image,\n",
    "# (5) augmented segmap on its own in.\n",
    "#\n",
    "# We now generate the cells of these columns.\n",
    "#\n",
    "# Note that draw_on_image() and draw() both return lists of drawn\n",
    "# images. Assuming that the segmentation map array has shape (H,W,C),\n",
    "# the list contains C items.\n",
    "cells = []\n",
    "for image_aug, segmap_aug in zip(images_aug, segmaps_aug):\n",
    "    cells.append(image)                                         # column 1\n",
    "    cells.append(segmap.draw_on_image(image)[0])                # column 2\n",
    "    cells.append(image_aug)                                     # column 3\n",
    "    cells.append(segmap_aug.draw_on_image(image_aug)[0])        # column 4\n",
    "    cells.append(segmap_aug.draw(size=image_aug.shape[:2])[0])  # column 5\n",
    "\n",
    "# Convert cells to a grid image and save.\n",
    "grid_image = ia.draw_grid(cells, cols=5)\n",
    "imageio.imwrite(\"example_segmaps.jpg\", grid_image)"
   ]
  },
  {
   "cell_type": "code",
   "execution_count": null,
   "metadata": {},
   "outputs": [],
   "source": []
  }
 ],
 "metadata": {
  "kernelspec": {
   "display_name": "Python 3",
   "language": "python",
   "name": "python3"
  },
  "language_info": {
   "codemirror_mode": {
    "name": "ipython",
    "version": 3
   },
   "file_extension": ".py",
   "mimetype": "text/x-python",
   "name": "python",
   "nbconvert_exporter": "python",
   "pygments_lexer": "ipython3",
   "version": "3.7.4"
  }
 },
 "nbformat": 4,
 "nbformat_minor": 2
}
