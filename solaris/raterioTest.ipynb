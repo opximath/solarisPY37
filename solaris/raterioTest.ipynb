{
 "cells": [
  {
   "cell_type": "code",
   "execution_count": 2,
   "id": "5ca2999a",
   "metadata": {},
   "outputs": [],
   "source": [
    "import numpy as np\n",
    "import rasterio\n",
    "import os\n",
    "\n",
    "#file_list = os.listdir('경로')\n",
    "#file_list\n",
    "\n",
    "# 반복문(length.file_list())\n",
    "### target = 사전경로 + file_list[i]\n",
    "### save = 사전경로 + file_list[i]+'r' +' '.tif'\n",
    "\n",
    "dataset = rasterio.open('C:\\\\Users\\\\user\\\\Desktop\\\\forest\\\\transferTarget_0727_4000\\\\FR_AP_37802098_461_FGT_R.tif')\n",
    "#save = r'C:/Users/CES/FR_AP_36701090_340_FGT_r.tif'"
   ]
  },
  {
   "cell_type": "code",
   "execution_count": 7,
   "id": "83e2f626",
   "metadata": {},
   "outputs": [
    {
     "name": "stdout",
     "output_type": "stream",
     "text": [
      "512\n",
      "(512, 512)\n",
      "262144\n",
      "[[1 1 1 ... 1 1 1]\n",
      " [1 1 1 ... 1 1 1]\n",
      " [1 1 1 ... 1 1 1]\n",
      " ...\n",
      " [1 1 1 ... 1 1 1]\n",
      " [1 1 1 ... 1 1 1]\n",
      " [1 1 1 ... 1 1 1]]\n"
     ]
    }
   ],
   "source": [
    "band1 = dataset.read(1)\n",
    "print(len(band1))\n",
    "print(np.shape(band1))\n",
    "print(np.size(band1))\n",
    "\n",
    "#print(band1)\n",
    "\n",
    "print(band1)"
   ]
  },
  {
   "cell_type": "code",
   "execution_count": 4,
   "id": "e9d1745e",
   "metadata": {},
   "outputs": [
    {
     "data": {
      "image/png": "[encoded data removed]",
      "text/plain": [
       "<Figure size 432x288 with 1 Axes>"
      ]
     },
     "metadata": {
      "needs_background": "light"
     },
     "output_type": "display_data"
    }
   ],
   "source": [
    "%matplotlib inline\n",
    "from matplotlib import pyplot\n",
    "pyplot.imshow(dataset.read(1))\n",
    "pyplot.show()"
   ]
  },
  {
   "cell_type": "code",
   "execution_count": null,
   "id": "f7e4fecd",
   "metadata": {},
   "outputs": [],
   "source": []
  }
 ],
 "metadata": {
  "kernelspec": {
   "display_name": "Python 3 (ipykernel)",
   "language": "python",
   "name": "python3"
  },
  "language_info": {
   "codemirror_mode": {
    "name": "ipython",
    "version": 3
   },
   "file_extension": ".py",
   "mimetype": "text/x-python",
   "name": "python",
   "nbconvert_exporter": "python",
   "pygments_lexer": "ipython3",
   "version": "3.7.12"
  }
 },
 "nbformat": 4,
 "nbformat_minor": 5
}
